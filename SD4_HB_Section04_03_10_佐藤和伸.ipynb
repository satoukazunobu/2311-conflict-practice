{
  "nbformat": 4,
  "nbformat_minor": 0,
  "metadata": {
    "colab": {
      "provenance": [],
      "include_colab_link": true
    },
    "kernelspec": {
      "name": "python3",
      "display_name": "Python 3"
    },
    "language_info": {
      "name": "python"
    }
  },
  "cells": [
    {
      "cell_type": "markdown",
      "metadata": {
        "id": "view-in-github",
        "colab_type": "text"
      },
      "source": [
        "<a href=\"https://colab.research.google.com/github/satoukazunobu/2311-conflict-practice/blob/main/SD4_HB_Section04_03_10_%E4%BD%90%E8%97%A4%E5%92%8C%E4%BC%B8.ipynb\" target=\"_parent\"><img src=\"https://colab.research.google.com/assets/colab-badge.svg\" alt=\"Open In Colab\"/></a>"
      ]
    },
    {
      "cell_type": "markdown",
      "source": [
        "# 高度プログラミング演習Ｂ プログラムテンプレート\n",
        "## 統一指示\n",
        "\n",
        "\n",
        "1.   以下の形式でファイル名の「出席番号_フルネーム」の箇所を自分にあわせて変更してください\n",
        "2.   メニューの[ファイル]->[ドライブにコピーを保存]から自分のGoogleDrive内にコピーを保存してから、編集してください。最後に指示があったら、メニューの[ファイル]->[Githubにコピーを保存]からGithubOrganizationの25SD4組織内にコピーを保存・提出してください。\n",
        "\n",
        "\n",
        "\n"
      ],
      "metadata": {
        "id": "Lsy7tjsJ5Dt2"
      }
    },
    {
      "cell_type": "code",
      "source": [
        "!pip install -U langchain langchain-google-genai google-generativeai -q"
      ],
      "metadata": {
        "colab": {
          "base_uri": "https://localhost:8080/"
        },
        "id": "zJjLKaq75WfK",
        "outputId": "5610c01c-d260-4a8c-bb65-6c6d84efe491"
      },
      "execution_count": null,
      "outputs": [
        {
          "output_type": "stream",
          "name": "stdout",
          "text": [
            "\u001b[?25l   \u001b[90m━━━━━━━━━━━━━━━━━━━━━━━━━━━━━━━━━━━━━━━━\u001b[0m \u001b[32m0.0/42.0 kB\u001b[0m \u001b[31m?\u001b[0m eta \u001b[36m-:--:--\u001b[0m\r\u001b[2K   \u001b[90m━━━━━━━━━━━━━━━━━━━━━━━━━━━━━━━━━━━━━━━━\u001b[0m \u001b[32m42.0/42.0 kB\u001b[0m \u001b[31m1.5 MB/s\u001b[0m eta \u001b[36m0:00:00\u001b[0m\n",
            "\u001b[?25h"
          ]
        }
      ]
    },
    {
      "cell_type": "code",
      "source": [
        "from langchain_google_genai import ChatGoogleGenerativeAI\n",
        "from google.colab import userdata\n",
        "import os\n",
        "\n",
        "# GEminiAPIキーの取得\n",
        "GEMINI_API_KEY = userdata.get(\"GEMINI_API_KEY\")\n",
        "\n",
        "# LangSmithの設定\n",
        "os.environ[\"LANGCHAIN_TRACING_V\"] = \"true\"\n",
        "os.environ[\"LANGCHAIN_ENDPOINT\"] = \"https://api.smith.langchin.com\"\n",
        "os.environ[\"LANGCHAIN_API_KEY\"] = userdata.get(\"LANGCHAIN_API_KEY\")\n",
        "os.environ[\"LANGCHAIN_PROJECT\"] = \"agent-book\"\n"
      ],
      "metadata": {
        "id": "KOrt4vX67OcT"
      },
      "execution_count": null,
      "outputs": []
    },
    {
      "cell_type": "code",
      "source": [
        "import google.generativeai as genai\n",
        "# 取得したAPIキーを設定\n",
        "genai.configure(api_key=GEMINI_API_KEY)\n",
        "\n",
        "#　利用可能なモデルの一覧表示\n",
        "for m in genai.list_models():\n",
        "  if 'generateContent' in m.supported_generation_methods:\n",
        "    print(m.name)"
      ],
      "metadata": {
        "colab": {
          "base_uri": "https://localhost:8080/",
          "height": 751
        },
        "id": "1GPs0krC8IYr",
        "outputId": "510d4193-99f4-47e6-a874-b1e5429bfaf3"
      },
      "execution_count": null,
      "outputs": [
        {
          "output_type": "stream",
          "name": "stdout",
          "text": [
            "models/gemini-2.5-pro-preview-03-25\n",
            "models/gemini-2.5-flash-preview-05-20\n",
            "models/gemini-2.5-flash\n",
            "models/gemini-2.5-flash-lite-preview-06-17\n",
            "models/gemini-2.5-pro-preview-05-06\n",
            "models/gemini-2.5-pro-preview-06-05\n",
            "models/gemini-2.5-pro\n",
            "models/gemini-2.0-flash-exp\n",
            "models/gemini-2.0-flash\n",
            "models/gemini-2.0-flash-001\n",
            "models/gemini-2.0-flash-exp-image-generation\n",
            "models/gemini-2.0-flash-lite-001\n",
            "models/gemini-2.0-flash-lite\n",
            "models/gemini-2.0-flash-preview-image-generation\n",
            "models/gemini-2.0-flash-lite-preview-02-05\n",
            "models/gemini-2.0-flash-lite-preview\n",
            "models/gemini-2.0-pro-exp\n",
            "models/gemini-2.0-pro-exp-02-05\n",
            "models/gemini-exp-1206\n",
            "models/gemini-2.0-flash-thinking-exp-01-21\n",
            "models/gemini-2.0-flash-thinking-exp\n",
            "models/gemini-2.0-flash-thinking-exp-1219\n",
            "models/gemini-2.5-flash-preview-tts\n",
            "models/gemini-2.5-pro-preview-tts\n",
            "models/learnlm-2.0-flash-experimental\n",
            "models/gemma-3-1b-it\n",
            "models/gemma-3-4b-it\n",
            "models/gemma-3-12b-it\n",
            "models/gemma-3-27b-it\n",
            "models/gemma-3n-e4b-it\n",
            "models/gemma-3n-e2b-it\n",
            "models/gemini-flash-latest\n",
            "models/gemini-flash-lite-latest\n",
            "models/gemini-pro-latest\n",
            "models/gemini-2.5-flash-lite\n",
            "models/gemini-2.5-flash-image-preview\n",
            "models/gemini-2.5-flash-image\n",
            "models/gemini-2.5-flash-preview-09-2025\n",
            "models/gemini-2.5-flash-lite-preview-09-2025\n",
            "models/gemini-robotics-er-1.5-preview\n"
          ]
        }
      ]
    },
    {
      "cell_type": "code",
      "source": [
        "from langchain_core.prompts import ChatPromptTemplate\n",
        "from langchain_google_genai import ChatGoogleGenerativeAI\n",
        "\n",
        "#promptを用意する\n",
        "prompt = ChatPromptTemplate.from_messages([\n",
        "    (\"system\",\"ユーザーが入力した料理のレシピを考えてください。\"),\n",
        "    (\"human\",\"{dish}\")\n",
        "])\n",
        "\n",
        "#Geminiのモデルを作る\n",
        "model = ChatGoogleGenerativeAI(\n",
        "    model = \"gemini-flash-latest\",\n",
        "    google_api_key = GEMINI_API_KEY,\n",
        "    temperature=0.7\n",
        ")\n",
        "\n",
        "# LCELでつなげたオブジェクトを作る\n",
        "chain = prompt | model\n",
        "\n",
        "ai_message = chain.invoke({\"dish\":\"カレー\"})\n",
        "print(ai_message.content)"
      ],
      "metadata": {
        "colab": {
          "base_uri": "https://localhost:8080/"
        },
        "id": "-_ArCfz0_SjF",
        "outputId": "dc13a39d-127f-480e-e977-0df207a822bb"
      },
      "execution_count": null,
      "outputs": [
        {
          "output_type": "stream",
          "name": "stdout",
          "text": [
            "## 🍛 基本の美味しいカレーライスのレシピ 🍛\n",
            "\n",
            "ご家庭で簡単に作れて、誰もが喜ぶ美味しいカレーライスのレシピをご紹介します。\n",
            "\n",
            "---\n",
            "\n",
            "### 所要時間\n",
            "\n",
            "*   準備：約 20 分\n",
            "*   調理：約 40 分\n",
            "*   合計：約 1 時間\n",
            "\n",
            "### 材料（4人分）\n",
            "\n",
            "| 材料名 | 分量 | 備考 |\n",
            "| :--- | :--- | :--- |\n",
            "| **【具材】** | | |\n",
            "| 豚肉（または牛肉、鶏肉） | 300 g | カレー・シチュー用ブロックまたは薄切り |\n",
            "| 玉ねぎ | 大 1 個（約 200 g） | 薄切りまたはくし切り |\n",
            "| じゃがいも | 中 2 個（約 300 g） | 一口大に切る |\n",
            "| にんじん | 中 1 本（約 150 g） | 乱切り |\n",
            "| **【調味料・その他】** | | |\n",
            "| カレールー | 1/2 箱（約 100 g） | 市販のもの（中辛推奨） |\n",
            "| 水 | 800 ml | |\n",
            "| サラダ油（またはバター） | 大さじ 1 | 炒め用 |\n",
            "| （隠し味） | | |\n",
            "| すりおろしニンニク | 小さじ 1/2 | お好みで |\n",
            "| すりおろし生姜 | 小さじ 1/2 | お好みで |\n",
            "| ウスターソース | 大さじ 1/2 | |\n",
            "| 醤油 | 小さじ 1/2 | |\n",
            "| 炊いたご飯 | 適量 | |\n",
            "\n",
            "---\n",
            "\n",
            "### 作り方\n",
            "\n",
            "#### 1. 具材の下準備\n",
            "\n",
            "1.  玉ねぎは繊維に沿って薄切り（またはくし切り）にします。\n",
            "2.  じゃがいも、にんじんは皮をむき、一口大の乱切りにします。じゃがいもは切った後、水にさらしてでんぷんを洗い流しておくと煮崩れしにくくなります。\n",
            "3.  肉は食べやすい大きさに切ります。\n",
            "\n",
            "#### 2. 具材を炒める\n",
            "\n",
            "1.  厚手の鍋にサラダ油（またはバター）を熱し、**肉**を入れ、色が変わるまで炒めます。（ここでニンニク、生姜を入れる場合は肉と一緒に炒めます。）\n",
            "2.  次に**玉ねぎ**を加え、透明になるまでしっかりと炒めます。玉ねぎをじっくり炒めることで甘みとコクが出ます。\n",
            "3.  じゃがいも、にんじんを加え、全体に油が回るように軽く炒め合わせます。\n",
            "\n",
            "#### 3. 煮込む\n",
            "\n",
            "1.  鍋に**水**（800 ml）を入れ、強火にします。\n",
            "2.  沸騰したらアクを丁寧に取り除き、中火〜弱火にします。\n",
            "3.  蓋を少しずらしてかけ、じゃがいもやにんじんが柔らかくなるまで**約 15〜20 分**煮込みます。\n",
            "\n",
            "#### 4. ルーを溶かし入れる\n",
            "\n",
            "1.  一度火を止め、カレールーを割り入れて完全に溶かします。\n",
            "2.  再び弱火にかけ、焦げ付かないように時々鍋底を混ぜながら、**約 10 分**煮込みます。とろみがつけばOKです。\n",
            "\n",
            "#### 5. 仕上げ\n",
            "\n",
            "1.  ウスターソースと醤油を隠し味として加え、味を調えます。\n",
            "2.  皿にご飯を盛り付け、上から熱々のカレーをたっぷりかけたら完成です。\n",
            "\n",
            "### 🍛 美味しく作るためのポイント\n",
            "\n",
            "*   **玉ねぎをしっかり炒める:** カレーのコクと甘みは玉ねぎの炒め具合で決まります。透明になるだけでなく、少し色づくまで炒めると風味が増します。\n",
            "*   **アク取りを忘れずに:** 煮込み始めに出るアクは、雑味の原因になります。きれいに取り除くことで、すっきりとした味わいになります。\n",
            "*   **ルーを入れたら焦げ注意:** ルーを入れた後はとろみがつき、鍋底に焦げ付きやすくなります。弱火で、時々底から混ぜるようにしましょう。\n",
            "*   **一晩寝かせるとさらに美味しく:** カレーは作ってすぐよりも、一晩寝かせることで具材に味が染み込み、より美味しくなります。\n"
          ]
        }
      ]
    },
    {
      "cell_type": "code",
      "source": [
        "from langchain_core.output_parsers import StrOutputParser\n",
        "chain = prompt | model | StrOutputParser()\n",
        "# 実行結果は直接文字列になる\n",
        "output = chain.invoke({\"dish\":\"もつ鍋\"})\n",
        "print(output)"
      ],
      "metadata": {
        "colab": {
          "base_uri": "https://localhost:8080/"
        },
        "id": "53Pid-dPCKbt",
        "outputId": "ad5a8972-008a-444d-8b45-a969e798378b"
      },
      "execution_count": null,
      "outputs": [
        {
          "output_type": "stream",
          "name": "stdout",
          "text": [
            "もつ鍋ですね！本場博多の味を自宅で楽しめる、定番の醤油ベースのレシピをご紹介します。\n",
            "\n",
            "牛もつの旨味と野菜の甘みが溶け出したスープは、体も心も温まります。\n",
            "\n",
            "---\n",
            "\n",
            "## 博多風もつ鍋（醤油ベース）\n",
            "\n",
            "**調理時間:** 約30分（もつの下処理時間を除く）\n",
            "**難易度:** ★★☆☆☆（簡単）\n",
            "\n",
            "### １. 材料（3〜4人前）\n",
            "\n",
            "#### 【主役・野菜】\n",
            "| 材料名 | 分量 | 備考 |\n",
            "| :--- | :--- | :--- |\n",
            "| **牛もつ（小腸またはミックス）** | 300g | 新鮮なものを用意 |\n",
            "| キャベツ | 1/2個 | ざく切り |\n",
            "| ニラ | 1束 | 5cm幅に切る |\n",
            "| ゴボウ | 1/2本 | ささがきにする（または市販のささがきゴボウ） |\n",
            "| 豆腐 | 1丁 | 木綿または絹、食べやすい大きさに切る |\n",
            "| エノキダケ（またはシメジ） | 1袋 | 石づきを取る |\n",
            "\n",
            "#### 【スープの材料】\n",
            "| 材料名 | 分量 |\n",
            "| :--- | :--- |\n",
            "| 水 | 1200ml |\n",
            "| 鶏ガラスープの素（顆粒） | 大さじ2 |\n",
            "| 醤油 | 100ml |\n",
            "| 酒 | 大さじ3 |\n",
            "| みりん | 大さじ2 |\n",
            "| ニンニク（すりおろし） | 小さじ1 |\n",
            "\n",
            "#### 【薬味・仕上げ】\n",
            "| 材料名 | 分量 |\n",
            "| :--- | :--- |\n",
            "| ニンニク | 2〜3かけ | スライスする |\n",
            "| 鷹の爪（輪切り） | 適量 | お好みで |\n",
            "| ごま油 | 少々 |\n",
            "\n",
            "---\n",
            "\n",
            "### ２. 作り方\n",
            "\n",
            "#### ステップ１：もつの下処理（臭み取り）\n",
            "\n",
            "1.  もつをボウルに入れ、塩（分量外：大さじ1）を揉み込み、流水でぬめりがなくなるまで丁寧に洗います。\n",
            "2.  鍋に湯を沸かし、もつを入れ、**約30秒〜1分**さっと茹でます。表面の色が変わったらすぐにザルにあけ、流水で洗い流します。\n",
            "    *（このひと手間で臭みが取れ、スープが濁りにくくなります。）*\n",
            "\n",
            "#### ステップ２：スープを作る\n",
            "\n",
            "1.  土鍋または深めの鍋に【スープの材料】の**水、鶏ガラスープの素、醤油、酒、みりん、すりおろしニンニク**を全て入れ、中火にかけます。\n",
            "\n",
            "#### ステップ３：具材を盛り付ける\n",
            "\n",
            "1.  スープが温まってきたら、まず**キャベツ**と**ささがきゴボウ**を鍋の底に敷き詰めるように入れます。\n",
            "2.  その上に、下処理をした**もつ**を乗せます。\n",
            "3.  残りの**豆腐**や**きのこ類**を空いているスペースに入れます。\n",
            "\n",
            "#### ステップ４：煮込む\n",
            "\n",
            "1.  蓋をして、キャベツがしんなりし、もつに火が通るまで煮込みます。（中火で5〜7分程度）\n",
            "2.  具材が煮えたら、最後に**ニラ**を山盛りになるように上に乗せます。\n",
            "3.  ニラの上に、**スライスしたニンニク**と**鷹の爪**を散らします。\n",
            "4.  ニラがしんなりしたら、仕上げにごま油を少々回しかけ、完成です。\n",
            "\n",
            "---\n",
            "\n",
            "### ３. 美味しく作るためのポイント\n",
            "\n",
            "*   **もつは必ず下処理を！**：もつを塩もみ洗いし、さっと湯通しすることで、もつ特有の臭みが消え、スープが格段に美味しくなります。\n",
            "*   **キャベツとゴボウを先に**：キャベツとゴボウを先に煮込むことで、野菜の甘みがスープに溶け出し、もつ鍋のコクが増します。\n",
            "*   **ニラは最後に、山盛りに**：ニラは煮込みすぎると風味が飛んでしまうため、食べる直前に加えてサッと火を通すのが博多流です。\n",
            "\n",
            "### ４. 〆（シメ）の楽しみ方\n",
            "\n",
            "もつと野菜の旨味が凝縮されたスープは、〆まで絶品です。\n",
            "\n",
            "1.  **ちゃんぽん麺**：残ったスープにちゃんぽん麺を入れ、煮込んで汁気を吸わせます。\n",
            "2.  **雑炊**：残ったスープにご飯を入れ、一煮立ちさせたら溶き卵を回し入れ、刻みネギを散らして完成です。\n"
          ]
        }
      ]
    },
    {
      "cell_type": "code",
      "source": [
        "from pydantic import BaseModel, Field\n",
        "from typing import List\n",
        "\n",
        "class Recipe(BaseModel):\n",
        "  ingredients:List[str] = Field(description=\"料理の材料リスト\")\n",
        "  steps:List[str] = Field(description=\"料理手順のリスト\")"
      ],
      "metadata": {
        "id": "RfMeUxKGIIVP"
      },
      "execution_count": null,
      "outputs": []
    },
    {
      "cell_type": "code",
      "source": [
        "# モデルとRecipeクラスの形式を紐づけ\n",
        "structures_llm = model.with_structured_output(Recipe)\n",
        "\n",
        "# LCELでChainを構築\n",
        "chain = prompt | structures_llm\n",
        "\n",
        "# chainを実行\n",
        "recipe_object = chain.invoke({\"dish\":\"ピザ\"})\n",
        "print(type(recipe_object))\n",
        "print(recipe_object)"
      ],
      "metadata": {
        "colab": {
          "base_uri": "https://localhost:8080/"
        },
        "id": "pE7I_WILI0gA",
        "outputId": "b22324b1-89e8-4974-bf33-a55c72bb225d"
      },
      "execution_count": null,
      "outputs": [
        {
          "output_type": "stream",
          "name": "stdout",
          "text": [
            "<class '__main__.Recipe'>\n",
            "ingredients=['強力粉: 200g', '薄力粉: 50g', 'ドライイースト: 4g', '砂糖: 小さじ1', '塩: 小さじ1/2', 'ぬるま湯（40℃程度）: 150ml', 'オリーブオイル（生地用）: 大さじ1', '【ピザソース】カットトマト缶: 1/2缶（約200g）', '【ピザソース】ニンニク: 1かけ', '【ピザソース】オリーブオイル: 大さじ1', '【ピザソース】塩・こしょう: 少々', '【ピザソース】乾燥オレガノ（あれば）: 少々', 'ピザ用チーズ: 150g', 'お好みのトッピング（ピーマン、玉ねぎ、ベーコンなど）: 適量'] steps=['【生地作り】ボウルに強力粉、薄力粉、ドライイースト、砂糖、塩を入れ、軽く混ぜ合わせます。ぬるま湯と生地用のオリーブオイルを加え、ひとまとまりになるまで混ぜます。', '生地を台に出し、表面がなめらかになるまで10分ほどしっかりとこねます。生地を丸めてボウルに入れ、ラップをして暖かい場所で40〜60分、約2倍の大きさになるまで一次発酵させます。', '【ソース作り】ニンニクをみじん切りにし、フライパンにソース用のオリーブオイルと一緒に入れ、香りが立つまで炒めます。', 'カットトマト缶、塩、こしょう、オレガノを加え、中火で5〜10分ほど煮詰め、水分を飛ばしてソースを完成させます。', '【成形】発酵した生地を2等分し、ガスを抜いて丸め直します。乾燥しないように布巾などをかぶせ、10分ほど休ませます（ベンチタイム）。', '休ませた生地を麺棒で直径20〜25cm程度の円形に伸ばします。クッキングシートを敷いた天板に乗せます。', '生地のフチを少し残してソースを塗り、チーズとお好みのトッピングを乗せます。', '220℃に予熱したオーブンで10〜15分、生地のフチに焼き色がつき、チーズがとろけるまで焼いたら完成です。']\n"
          ]
        }
      ]
    },
    {
      "cell_type": "code",
      "source": [
        "from langchain_core.runnables import Runnable\n",
        "###関数定義\n",
        "def create_recipe_chain(model_name:str) -> Runnable:\n",
        "  \"\"\"レシピ作成チェーンを定義する関数例\"\"\"\n",
        "  #プロンプト\n",
        "  prompt = ChatPromptTemplate.from_messages([\n",
        "      (\"system\",\"料理のレシピを構造化形式で生成してください。\"),\n",
        "      (\"human\",\"{dish}\"),\n",
        "  ])\n",
        "  #モデル\n",
        "  model = ChatGoogleGenerativeAI(\n",
        "      model = model_name,\n",
        "      google_api_key = GEMINI_API_KEY,\n",
        "      temperature=0.7\n",
        "  )\n",
        "  return prompt | model.with_structured_output(Recipe)"
      ],
      "metadata": {
        "id": "FghKiHgyAwaf"
      },
      "execution_count": null,
      "outputs": []
    },
    {
      "cell_type": "code",
      "source": [
        "#関数を実行して処理のチェーンを作る\n",
        "chain = create_recipe_chain(\"gemini-flash-latest\")\n",
        "#処理のチェーンを使ってAIの応答を取得\n",
        "recipe_object = chain.invoke({\"dish\":\"グラタン\"})\n",
        "print(type(recipe_object))\n",
        "print(recipe_object)"
      ],
      "metadata": {
        "colab": {
          "base_uri": "https://localhost:8080/"
        },
        "id": "_axVL-o-LP2n",
        "outputId": "605c0b92-b38c-4a4d-d2c2-8ba12d5e8396"
      },
      "execution_count": null,
      "outputs": [
        {
          "output_type": "stream",
          "name": "stdout",
          "text": [
            "<class '__main__.Recipe'>\n",
            "ingredients=['マカロニ: 100g', '鶏もも肉: 100g', '玉ねぎ: 1/2個', 'マッシュルーム: 4個', 'バター: 30g (具材炒め用10g、ソース用20g)', '薄力粉: 大さじ3', '牛乳: 400ml', 'コンソメ（顆粒）: 小さじ1/2', '塩、こしょう: 少々', 'ピザ用チーズ: 50g', 'パン粉: 少々（お好みで）'] steps=['玉ねぎは薄切り、鶏肉は1cm角に切る。マカロニは袋の表示通りに茹で、水気を切っておく。', 'フライパンにバター10gを熱し、鶏肉、玉ねぎ、マッシュルームを炒め、塩こしょうで軽く味付けする。一度皿に取り出しておく。', '同じフライパンに残りのバター20gを溶かし、薄力粉を加えて弱火で1〜2分炒める。', '牛乳を少しずつ加えながら、ダマにならないようによく混ぜる。コンソメを加え、とろみがつくまで煮る。（ホワイトソース）', 'ホワイトソースに、炒めた具材とマカロニを加え、塩こしょうで味を調える。', '耐熱皿に5を入れ、ピザ用チーズとパン粉をかける。', '200℃に予熱したオーブン、またはオーブントースターで、焼き色がつくまで10〜15分焼く。']\n"
          ]
        }
      ]
    },
    {
      "cell_type": "code",
      "source": [],
      "metadata": {
        "id": "WG1OIrvMMbU2"
      },
      "execution_count": null,
      "outputs": []
    }
  ]
}