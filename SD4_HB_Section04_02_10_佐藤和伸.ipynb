{
  "nbformat": 4,
  "nbformat_minor": 0,
  "metadata": {
    "colab": {
      "provenance": [],
      "include_colab_link": true
    },
    "kernelspec": {
      "name": "python3",
      "display_name": "Python 3"
    },
    "language_info": {
      "name": "python"
    }
  },
  "cells": [
    {
      "cell_type": "markdown",
      "metadata": {
        "id": "view-in-github",
        "colab_type": "text"
      },
      "source": [
        "<a href=\"https://colab.research.google.com/github/satoukazunobu/2311-conflict-practice/blob/main/SD4_HB_Section04_02_10_%E4%BD%90%E8%97%A4%E5%92%8C%E4%BC%B8.ipynb\" target=\"_parent\"><img src=\"https://colab.research.google.com/assets/colab-badge.svg\" alt=\"Open In Colab\"/></a>"
      ]
    },
    {
      "cell_type": "markdown",
      "source": [
        "# 高度プログラミング演習Ｂ プログラムテンプレート\n",
        "## 統一指示\n",
        "\n",
        "\n",
        "1.   以下の形式でファイル名の「出席番号_フルネーム」の箇所を自分にあわせて変更してください\n",
        "2.   メニューの[ファイル]->[ドライブにコピーを保存]から自分のGoogleDrive内にコピーを保存してから、編集してください。最後に指示があったら、メニューの[ファイル]->[Githubにコピーを保存]からGithubOrganizationの25SD4組織内にコピーを保存・提出してください。\n",
        "\n",
        "\n",
        "\n"
      ],
      "metadata": {
        "id": "Lsy7tjsJ5Dt2"
      }
    },
    {
      "cell_type": "code",
      "source": [
        "!pip install -U langchain langchain-google-genai google-generativeai -q"
      ],
      "metadata": {
        "colab": {
          "base_uri": "https://localhost:8080/"
        },
        "id": "oM14sduN_LKr",
        "outputId": "1c4b8fe7-d4d4-4802-aa22-c41a6d6ef04a"
      },
      "execution_count": 1,
      "outputs": [
        {
          "output_type": "stream",
          "name": "stdout",
          "text": [
            "\u001b[?25l   \u001b[90m━━━━━━━━━━━━━━━━━━━━━━━━━━━━━━━━━━━━━━━━\u001b[0m \u001b[32m0.0/42.0 kB\u001b[0m \u001b[31m?\u001b[0m eta \u001b[36m-:--:--\u001b[0m\r\u001b[2K   \u001b[90m━━━━━━━━━━━━━━━━━━━━━━━━━━━━━━━━━━━━━━━━\u001b[0m \u001b[32m42.0/42.0 kB\u001b[0m \u001b[31m1.9 MB/s\u001b[0m eta \u001b[36m0:00:00\u001b[0m\n",
            "\u001b[?25h"
          ]
        }
      ]
    },
    {
      "cell_type": "code",
      "source": [
        "from google.colab import userdata\n",
        "import os\n",
        "\n",
        "os.environ[\"LANGCHAIN_API_KEY\"] = userdata.get(\"LANGCHAIN_API_KEY\")\n",
        "os.environ[\"LANGCHAIN_TRACING_V2\"] = \"true\"\n",
        "os.environ[\"LANGCHAIN_ENDPOINT\"] = \"https://api.smith.langchain.com\"\n",
        "os.environ[\"LANGCHAIN_PROJECT\"] = \"agent-book\""
      ],
      "metadata": {
        "id": "hinbBJNRAGPM"
      },
      "execution_count": 2,
      "outputs": []
    },
    {
      "cell_type": "code",
      "source": [
        "GEMINI_API_KEY = userdata.get(\"GEMINI_API_KEY\")"
      ],
      "metadata": {
        "id": "raLFy05aBxi8"
      },
      "execution_count": 3,
      "outputs": []
    },
    {
      "cell_type": "code",
      "source": [
        "from langchain.prompts import PromptTemplate\n",
        "# {dish}という変数が含まれるテンプレートを作成\n",
        "prompt = PromptTemplate.from_template(\"\"\"\n",
        "    以下の料理のレシピを作成してください。\n",
        "    料理名：{dish}\n",
        " \"\"\"\n",
        " )\n",
        "# invokeメソッドで変数{dish}の値を差し込む\n",
        "prompt_value = prompt.invoke({\"dish\":\"カレー\"})\n",
        "\n",
        "print(prompt_value.to_string())\n"
      ],
      "metadata": {
        "colab": {
          "base_uri": "https://localhost:8080/"
        },
        "id": "xtJFSdGZB66E",
        "outputId": "2c9c5fd0-748d-438c-c2b1-a3aa6a29c1bc"
      },
      "execution_count": 4,
      "outputs": [
        {
          "output_type": "stream",
          "name": "stdout",
          "text": [
            "\n",
            "    以下の料理のレシピを作成してください。\n",
            "    料理名：カレー\n",
            " \n"
          ]
        }
      ]
    },
    {
      "cell_type": "code",
      "source": [
        "from langchain_core.prompts import ChatPromptTemplate\n",
        "prompt = ChatPromptTemplate.from_messages([\n",
        "    (\"system\", \"ユーザーが入力した料理のレシピを考えてください。\"),\n",
        "    (\"human\", \"{dish}\"), # humanはuserロール相当\n",
        "])\n",
        "\n",
        "prompt_value = prompt.invoke({\"dish\":\"カレー\"})\n",
        "print(prompt_value)"
      ],
      "metadata": {
        "colab": {
          "base_uri": "https://localhost:8080/"
        },
        "id": "6FZairYsEht1",
        "outputId": "d67a4626-910e-462c-ed9c-c599fb3ce5e6"
      },
      "execution_count": 5,
      "outputs": [
        {
          "output_type": "stream",
          "name": "stdout",
          "text": [
            "messages=[SystemMessage(content='ユーザーが入力した料理のレシピを考えてください。', additional_kwargs={}, response_metadata={}), HumanMessage(content='カレー', additional_kwargs={}, response_metadata={})]\n"
          ]
        }
      ]
    },
    {
      "cell_type": "code",
      "source": [
        "from langchain_core.messages import AIMessage, HumanMessage\n",
        "from langchain_core.prompts import ChatPromptTemplate, MessagesPlaceholder\n",
        "\n",
        "prompt = ChatPromptTemplate.from_messages([\n",
        "    (\"system\",\"You are helpful assistant.\"),\n",
        "    # humanとAIの会話履歴を、MessagesPlaceholderオブジェクトで埋め込む\n",
        "    MessagesPlaceholder(\"chat_history\", optional=True),\n",
        "    # 履歴じゃない追加のメッセージ\n",
        "    (\"human\",\"{input}\"),\n",
        "])\n",
        "\n",
        "#promptに組み込まれたテンプレートに値をはめ込んで会話を投げる\n",
        "prompt_value = prompt.invoke({\n",
        "    \"chat_history\":[HumanMessage(content=\"こんにちは！　私はジョンと言います！\"),\n",
        "                    AIMessage(content=\"こんにちは、ジョンさん！　どのようにお手伝いできますか？\",)\n",
        "                    ],\n",
        "    \"input\":\"私の名前がわかりますか？\"\n",
        "})\n",
        "print(prompt_value)"
      ],
      "metadata": {
        "colab": {
          "base_uri": "https://localhost:8080/"
        },
        "id": "JQvvxBGD83MB",
        "outputId": "ae755e7b-9567-4f1f-edd5-7a45957094c7"
      },
      "execution_count": 6,
      "outputs": [
        {
          "output_type": "stream",
          "name": "stdout",
          "text": [
            "messages=[SystemMessage(content='You are helpful assistant.', additional_kwargs={}, response_metadata={}), HumanMessage(content='こんにちは！\\u3000私はジョンと言います！', additional_kwargs={}, response_metadata={}), AIMessage(content='こんにちは、ジョンさん！\\u3000どのようにお手伝いできますか？', additional_kwargs={}, response_metadata={}), HumanMessage(content='私の名前がわかりますか？', additional_kwargs={}, response_metadata={})]\n"
          ]
        }
      ]
    },
    {
      "cell_type": "code",
      "source": [
        "# langchainhubをimportする\n",
        "!pip install langchainhub -q\n",
        "from langchain import hub\n",
        "\n",
        "# 公開されているプロンプトを取得\n",
        "prompt = hub.pull(\"oshima/recipe\") #oshimaは教科書の作者\n",
        "\n",
        "# 通常のChatPromptTemplateと同様に使える\n",
        "prompt_value = prompt.invoke({\"dish\":\"カレー\"})\n",
        "print(prompt_value)\n"
      ],
      "metadata": {
        "colab": {
          "base_uri": "https://localhost:8080/"
        },
        "id": "Sl9rffiLCAVT",
        "outputId": "60ecace8-8aad-4d35-a4e2-fab06c9e512d"
      },
      "execution_count": 7,
      "outputs": [
        {
          "output_type": "stream",
          "name": "stdout",
          "text": [
            "\u001b[?25l   \u001b[90m━━━━━━━━━━━━━━━━━━━━━━━━━━━━━━━━━━━━━━━━\u001b[0m \u001b[32m0.0/65.5 kB\u001b[0m \u001b[31m?\u001b[0m eta \u001b[36m-:--:--\u001b[0m\r\u001b[2K   \u001b[90m━━━━━━━━━━━━━━━━━━━━━━━━━━━━━━━━━━━━━━━━\u001b[0m \u001b[32m65.5/65.5 kB\u001b[0m \u001b[31m2.2 MB/s\u001b[0m eta \u001b[36m0:00:00\u001b[0m\n",
            "\u001b[?25hmessages=[SystemMessage(content='ユーザーが入力した料理のレシピを考えてください。', additional_kwargs={}, response_metadata={}), HumanMessage(content='カレー', additional_kwargs={}, response_metadata={})]\n"
          ]
        }
      ]
    },
    {
      "cell_type": "code",
      "source": [
        "from pydantic import BaseModel, Field\n",
        "from typing import List\n",
        "\n",
        "class Recipe(BaseModel):\n",
        "  ingredients:List[str] = Field(description=\"料理の材料リスト\")\n",
        "  steps:List[str] = Field(description=\"調理手順のリスト\")"
      ],
      "metadata": {
        "id": "lcMFtKa1FMfj"
      },
      "execution_count": 8,
      "outputs": []
    },
    {
      "cell_type": "code",
      "source": [
        "from langchain_core.output_parsers import PydanticOutputParser\n",
        "\n",
        "output_parser = PydanticOutputParser(pydantic_object=Recipe)\n",
        "\n",
        "format_instructions = output_parser.get_format_instructions()\n",
        "print(format_instructions)"
      ],
      "metadata": {
        "colab": {
          "base_uri": "https://localhost:8080/"
        },
        "id": "4iafJ9_nJ93U",
        "outputId": "e285636f-7e30-422d-8263-d5743fbb4160"
      },
      "execution_count": 9,
      "outputs": [
        {
          "output_type": "stream",
          "name": "stdout",
          "text": [
            "The output should be formatted as a JSON instance that conforms to the JSON schema below.\n",
            "\n",
            "As an example, for the schema {\"properties\": {\"foo\": {\"title\": \"Foo\", \"description\": \"a list of strings\", \"type\": \"array\", \"items\": {\"type\": \"string\"}}}, \"required\": [\"foo\"]}\n",
            "the object {\"foo\": [\"bar\", \"baz\"]} is a well-formatted instance of the schema. The object {\"properties\": {\"foo\": [\"bar\", \"baz\"]}} is not well-formatted.\n",
            "\n",
            "Here is the output schema:\n",
            "```\n",
            "{\"properties\": {\"ingredients\": {\"description\": \"料理の材料リスト\", \"items\": {\"type\": \"string\"}, \"title\": \"Ingredients\", \"type\": \"array\"}, \"steps\": {\"description\": \"調理手順のリスト\", \"items\": {\"type\": \"string\"}, \"title\": \"Steps\", \"type\": \"array\"}}, \"required\": [\"ingredients\", \"steps\"]}\n",
            "```\n"
          ]
        }
      ]
    },
    {
      "cell_type": "code",
      "source": [
        "#プロンプトを作る\n",
        "prompt = ChatPromptTemplate.from_messages([\n",
        "    (\"system\",\"ユーザーが入力した料理のレシピを考えてください。\\n\\n{format_instructions}\"),\n",
        "    (\"human\",\"{dish}\"),\n",
        "])\n",
        "#プロンプトに形式の指示「format_instructions」を埋め込む\n",
        "prompt_with_parser = prompt.partial(format_instructions=format_instructions)\n"
      ],
      "metadata": {
        "id": "hS3qLUs4K3pk"
      },
      "execution_count": 16,
      "outputs": []
    },
    {
      "cell_type": "code",
      "source": [
        "from langchain_google_genai import ChatGoogleGenerativeAI\n",
        "\n",
        "model = ChatGoogleGenerativeAI(model=\"gemini-flash-latest\", google_api_key=GEMINI_API_KEY,temperatur=0.7)\n",
        "\n",
        "#modelにRecipeクラスの情報を渡す\n",
        "structured_llm = model.with_structured_output(Recipe)\n",
        "\n",
        "#プロンプトとモデルを結合(LCEL)\n",
        "chain = prompt_with_parser | structured_llm\n",
        "\n",
        "#プロンプトとモデルの処理がつながっているchainを使ってメッセージを投げる\n",
        "recipe_object = chain.invoke({\"dish\":\"ハンバーグ\"})\n",
        "\n",
        "print(type(recipe_object))\n",
        "print(recipe_object)"
      ],
      "metadata": {
        "colab": {
          "base_uri": "https://localhost:8080/"
        },
        "id": "QD2CbHANfoar",
        "outputId": "87f1e671-6f98-47f6-b44f-9aa7d25afa78"
      },
      "execution_count": 20,
      "outputs": [
        {
          "output_type": "stream",
          "name": "stdout",
          "text": [
            "<class '__main__.Recipe'>\n",
            "ingredients=['合いびき肉: 300g', '玉ねぎ: 1/2個', 'パン粉: 大さじ3', '牛乳: 大さじ3', '卵: 1個', '塩: 小さじ1/2', 'こしょう: 少々', 'ナツメグ: 少々', 'サラダ油: 大さじ1 (焼く用)', '【ソース】ケチャップ: 大さじ3', '【ソース】ウスターソース: 大さじ3', '【ソース】水または赤ワイン: 大さじ1'] steps=['玉ねぎをみじん切りにし、フライパンで透明になるまで炒めて冷まします。', 'パン粉を牛乳に浸しておきます。', 'ボウルに合いびき肉、冷ました玉ねぎ、パン粉と牛乳、卵、塩、こしょう、ナツメグを入れ、粘り気が出るまでよくこねます。', 'タネを2～3等分にし、空気を抜きながら小判型に成形します。真ん中を少しくぼませるのがポイントです。', 'フライパンにサラダ油をひき中火で熱し、ハンバーグを並べます。焼き色がついたら裏返します。', '蓋をして弱火で5～8分蒸し焼きにします。竹串を刺して透明な肉汁が出れば火が通っています。', 'ハンバーグを皿に取り出します。', '同じフライパンにソースの材料（ケチャップ、ウスターソース、水または赤ワイン）を入れ、軽く煮詰めてソースを作ります。', 'ハンバーグにソースをかけて完成です。']\n"
          ]
        }
      ]
    },
    {
      "cell_type": "code",
      "source": [],
      "metadata": {
        "id": "8-3_SR24jHFM"
      },
      "execution_count": null,
      "outputs": []
    }
  ]
}