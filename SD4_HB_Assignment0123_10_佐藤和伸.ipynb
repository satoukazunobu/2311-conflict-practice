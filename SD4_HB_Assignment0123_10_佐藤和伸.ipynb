{
  "nbformat": 4,
  "nbformat_minor": 0,
  "metadata": {
    "colab": {
      "provenance": [],
      "include_colab_link": true
    },
    "kernelspec": {
      "name": "python3",
      "display_name": "Python 3"
    },
    "language_info": {
      "name": "python"
    }
  },
  "cells": [
    {
      "cell_type": "markdown",
      "metadata": {
        "id": "view-in-github",
        "colab_type": "text"
      },
      "source": [
        "<a href=\"https://colab.research.google.com/github/satoukazunobu/2311-conflict-practice/blob/main/SD4_HB_Assignment0123_10_%E4%BD%90%E8%97%A4%E5%92%8C%E4%BC%B8.ipynb\" target=\"_parent\"><img src=\"https://colab.research.google.com/assets/colab-badge.svg\" alt=\"Open In Colab\"/></a>"
      ]
    },
    {
      "cell_type": "markdown",
      "source": [
        "## 高度プログラミング演習Ｂ プログラムテンプレート\n",
        "## 統一指示\n",
        "\n",
        "\n",
        "1.   以下の形式でファイル名の「出席番号_フルネーム」の箇所を自分にあわせて変更してください\n",
        "2.   メニューの[ファイル]->[ドライブにコピーを保存]から自分のGoogleDrive内にコピーを保存してから、編集してください。最後に指示があったら、メニューの[ファイル]->[Githubにコピーを保存]からGithubOrganizationの25SD4組織内にコピーを保存・提出してください。\n",
        "\n",
        "\n",
        "\n"
      ],
      "metadata": {
        "id": "Lsy7tjsJ5Dt2"
      }
    },
    {
      "cell_type": "markdown",
      "source": [
        "# 以下の各セクションの指示に従い、コードセルを作成・追加し、GitHubに実行結果を提出してください。"
      ],
      "metadata": {
        "id": "ZlCpio8xrmJY"
      }
    },
    {
      "cell_type": "markdown",
      "source": [
        "## ①Tool Calling\n",
        "## 引き渡された値が偶数か否か判定する関数isEvenを作成し、APIに利用させて以下の問いに答えさせてください。\n",
        "### 「0は偶数ですか？」"
      ],
      "metadata": {
        "id": "lvp6-xUtb7Z1"
      }
    },
    {
      "cell_type": "code",
      "source": [
        "import json\n",
        "\n",
        "#偶数判定関数\n",
        "def isEven(n: int) -> bool:\n",
        "  return n % 2 == 0\n",
        "\n",
        "#API(ツール)スキーマを模擬的に定義\n",
        "tool_schema = {\n",
        "    \"name\":\"isEven\",\n",
        "    \"description\":\"引き渡した値が偶数か否か判定します。\",\n",
        "    \"parameters\": {\n",
        "        \"type\": \"object\",\n",
        "        \"properties\": {\n",
        "            \"n\": {\n",
        "                \"type\": \"integer\",\n",
        "                \"description\": \"判定したい整数値\"\n",
        "            }\n",
        "        },\n",
        "        \"required\": [\"n\"]\n",
        "    }\n",
        "}\n",
        "\n",
        "#ツール呼び出し(API呼び出しのようにJSON経由で渡すイメージ)\n",
        "tool_call = {\n",
        "    \"name\": \"isEven\",\n",
        "    \"arguments\": json.dumps({\"n\": 0})\n",
        "}\n",
        "\n",
        "#ツール呼び出しを受け取って実行\n",
        "args = json.loads(tool_call[\"arguments\"])\n",
        "result = isEven(args[\"n\"])\n",
        "\n",
        "#結果を返す(APIのレスポンス風)\n",
        "response = {\n",
        "    \"tool\": tool_call[\"name\"],\n",
        "    \"input\": args[\"n\"],\n",
        "    \"output\": result,\n",
        "    \"explanation\": \"0は2で割り切れるため偶数です。\" if result else \"偶数ではありません。\"\n",
        "}\n",
        "\n",
        "print(json.dumps(response, ensure_ascii=False, indent=2))\n"
      ],
      "metadata": {
        "colab": {
          "base_uri": "https://localhost:8080/"
        },
        "id": "fsmGINjD7739",
        "outputId": "3bec0cae-7f4b-48bb-a0d7-f5eeb3c2332d"
      },
      "execution_count": null,
      "outputs": [
        {
          "output_type": "stream",
          "name": "stdout",
          "text": [
            "{\n",
            "  \"tool\": \"isEven\",\n",
            "  \"input\": 0,\n",
            "  \"output\": true,\n",
            "  \"explanation\": \"0は2で割り切れるため偶数です。\"\n",
            "}\n"
          ]
        }
      ]
    },
    {
      "cell_type": "markdown",
      "source": [
        "## ②Few-shotプロンプティング\n",
        "## Few-Shotプロンプティングを利用して以下の文章「映画は面白かったけど、ポップコーンは冷めていた。」がポジティブ（肯定）かネガティブ（否定）か答えさせてください。\n",
        "文章: このレストランのサービスは本当に素晴らしかった！\n",
        "感情: ポジティブ\n",
        "\n",
        "注文した商品が届くのが遅すぎてがっかりした。\n",
        "感情: ネガティブ\n",
        "\n",
        "文章: 会議は午後3時に予定されています。\n",
        "感情: ニュートラル\n",
        "\n",
        "文章: 映画は面白かったけど、ポップコーンは冷めていた。\n",
        "感情:"
      ],
      "metadata": {
        "id": "himvc0XgsyDT"
      }
    },
    {
      "cell_type": "code",
      "source": [
        "response = client.chat.completions.create(\n",
        "    model=\"gpt-4o-mini\",\n",
        "    messages=[\n",
        "        {\"role\": \"system\", \"content\": \"入力がポジティブ(肯定)かネガティブ(否定)かニュートラルか回答してください。\"},\n",
        "        {}\n",
        "\n",
        "    ]\n",
        ")"
      ],
      "metadata": {
        "id": "JoJIqCHFII0g"
      },
      "execution_count": null,
      "outputs": []
    },
    {
      "cell_type": "markdown",
      "source": [
        "## ③Zero-shot Chain-of-Thoughtプロンプティング\n",
        "## Zero-shot Chain-of-Thoughtプロンプティングを利用して亀はなぜ寿命が長いのか、５ステップで答えさせてください。"
      ],
      "metadata": {
        "id": "a6XeEsrktxTW"
      }
    },
    {
      "cell_type": "code",
      "source": [],
      "metadata": {
        "id": "vFXnloO5srY_"
      },
      "execution_count": null,
      "outputs": []
    }
  ]
}